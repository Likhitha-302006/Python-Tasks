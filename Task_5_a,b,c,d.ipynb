{
  "nbformat": 4,
  "nbformat_minor": 0,
  "metadata": {
    "colab": {
      "provenance": [],
      "authorship_tag": "ABX9TyNLf2bk7/XCDV4fbygzbCGA",
      "include_colab_link": true
    },
    "kernelspec": {
      "name": "python3",
      "display_name": "Python 3"
    },
    "language_info": {
      "name": "python"
    }
  },
  "cells": [
    {
      "cell_type": "markdown",
      "metadata": {
        "id": "view-in-github",
        "colab_type": "text"
      },
      "source": [
        "<a href=\"https://colab.research.google.com/github/Likhitha-302006/Python-Tasks/blob/main/Task_5_a%2Cb%2Cc%2Cd.ipynb\" target=\"_parent\"><img src=\"https://colab.research.google.com/assets/colab-badge.svg\" alt=\"Open In Colab\"/></a>"
      ]
    },
    {
      "cell_type": "code",
      "execution_count": 2,
      "metadata": {
        "colab": {
          "base_uri": "https://localhost:8080/"
        },
        "id": "d4M9eZLVIMlZ",
        "outputId": "2d8210d7-5d53-4136-c68c-1ec5b30dab36"
      },
      "outputs": [
        {
          "output_type": "stream",
          "name": "stdout",
          "text": [
            "Element 110 is present at index 6\n"
          ]
        }
      ],
      "source": [
        "def search(arr, x):\n",
        "  for i in range(len(arr)):\n",
        "    if arr[i] == x:\n",
        "      return i\n",
        "  return -1\n",
        "\n",
        "arr = [10, 20, 80, 30, 60, 50, 110, 100, 130, 170]\n",
        "x = 110\n",
        "result = search(arr, x)\n",
        "if result != -1:\n",
        " print(\"Element\", x, \"is present at index\", result)\n",
        "else:\n",
        " print(\"Element\", x, \"is not present in the array\")"
      ]
    },
    {
      "cell_type": "code",
      "source": [
        "def binary_search(nums, target):\n",
        "  left=0\n",
        "  right=len(nums)- 1\n",
        "\n",
        "  while left <= right:\n",
        "    mid = left + (right - left) // 2\n",
        "    if nums[mid] == target:\n",
        "      return mid\n",
        "    elif nums[mid] < target:\n",
        "      left = mid + 1\n",
        "    else:\n",
        "      right = mid - 1\n",
        "\n",
        "  return -1\n",
        "\n",
        "nums = [-1, 0, 3, 5, 9, 12]\n",
        "target = 9\n",
        "print(binary_search(nums, target))"
      ],
      "metadata": {
        "colab": {
          "base_uri": "https://localhost:8080/"
        },
        "id": "-XYRD9X6Igyf",
        "outputId": "092559a6-d7e5-41b2-f935-1cabb8a23cfe"
      },
      "execution_count": 4,
      "outputs": [
        {
          "output_type": "stream",
          "name": "stdout",
          "text": [
            "4\n"
          ]
        }
      ]
    },
    {
      "cell_type": "code",
      "source": [
        "def bubble_sort(arr):\n",
        " n = len(arr)\n",
        " for i in range(n):\n",
        "  for j in range(0, n-i-1):\n",
        "   if arr[j] > arr[j+1]:\n",
        "    arr[j], arr[j+1] = arr[j+1], arr[j]\n",
        "def find_sequence(arr):\n",
        " smallest = arr[0]\n",
        " largest = arr[-1]\n",
        " print(\"Sequence of integers:\", smallest, \"to\", largest)\n",
        "\n",
        "n = int(input(\"Enter the number of integers: \"))\n",
        "\n",
        "integers = []\n",
        "print(\"Enter the integers:\")\n",
        "for _ in range(n):\n",
        " integers.append(int(input()))\n",
        "\n",
        "bubble_sort(integers)\n",
        "\n",
        "find_sequence(integers)"
      ],
      "metadata": {
        "colab": {
          "base_uri": "https://localhost:8080/"
        },
        "id": "x1uwoT4NIoY0",
        "outputId": "b08ba0bf-b05a-4c0f-e8bb-c7c80113c332"
      },
      "execution_count": 6,
      "outputs": [
        {
          "output_type": "stream",
          "name": "stdout",
          "text": [
            "Enter the number of integers: 5\n",
            "Enter the integers:\n",
            "3\n",
            "35\n",
            "67\n",
            "2\n",
            "56\n",
            "Sequence of integers: 2 to 67\n"
          ]
        }
      ]
    },
    {
      "cell_type": "code",
      "source": [
        "def selection_sort(scores):\n",
        " n = len(scores)\n",
        " for i in range(n):\n",
        "  min_index = i\n",
        "  for j in range(i+1, n):\n",
        "   if scores[j] < scores[min_index]:\n",
        "    min_index = j\n",
        "  scores[i], scores[min_index] = scores[min_index], scores[i]\n",
        "  print(\"After iteration\", i+1, \":\", scores)\n",
        "exam_scores = [87, 65, 92, 78, 55, 70, 82]\n",
        "print(\"Initial exam scores:\", exam_scores)\n",
        "print(\"Sorting using Selection Sort:\")\n",
        "selection_sort(exam_scores)\n",
        "print(\"Final sorted exam scores:\", exam_scores)"
      ],
      "metadata": {
        "colab": {
          "base_uri": "https://localhost:8080/"
        },
        "id": "8_TzRNeOI09q",
        "outputId": "f1d523aa-077e-4501-f61e-53477a35c3c8"
      },
      "execution_count": 8,
      "outputs": [
        {
          "output_type": "stream",
          "name": "stdout",
          "text": [
            "Initial exam scores: [87, 65, 92, 78, 55, 70, 82]\n",
            "Sorting using Selection Sort:\n",
            "After iteration 1 : [55, 65, 92, 78, 87, 70, 82]\n",
            "After iteration 2 : [55, 65, 92, 78, 87, 70, 82]\n",
            "After iteration 3 : [55, 65, 70, 78, 87, 92, 82]\n",
            "After iteration 4 : [55, 65, 70, 78, 87, 92, 82]\n",
            "After iteration 5 : [55, 65, 70, 78, 82, 92, 87]\n",
            "After iteration 6 : [55, 65, 70, 78, 82, 87, 92]\n",
            "After iteration 7 : [55, 65, 70, 78, 82, 87, 92]\n",
            "Final sorted exam scores: [55, 65, 70, 78, 82, 87, 92]\n"
          ]
        }
      ]
    },
    {
      "cell_type": "code",
      "source": [],
      "metadata": {
        "id": "ulJW67zPI77m"
      },
      "execution_count": null,
      "outputs": []
    }
  ]
}