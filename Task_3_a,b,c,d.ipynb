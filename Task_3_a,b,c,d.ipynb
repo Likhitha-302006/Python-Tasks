{
  "nbformat": 4,
  "nbformat_minor": 0,
  "metadata": {
    "colab": {
      "provenance": [],
      "authorship_tag": "ABX9TyOXlC5WyT7kBqt7v3K89M88",
      "include_colab_link": true
    },
    "kernelspec": {
      "name": "python3",
      "display_name": "Python 3"
    },
    "language_info": {
      "name": "python"
    }
  },
  "cells": [
    {
      "cell_type": "markdown",
      "metadata": {
        "id": "view-in-github",
        "colab_type": "text"
      },
      "source": [
        "<a href=\"https://colab.research.google.com/github/Likhitha-302006/Python-Tasks/blob/main/Task_3_a%2Cb%2Cc%2Cd.ipynb\" target=\"_parent\"><img src=\"https://colab.research.google.com/assets/colab-badge.svg\" alt=\"Open In Colab\"/></a>"
      ]
    },
    {
      "cell_type": "code",
      "execution_count": 2,
      "metadata": {
        "colab": {
          "base_uri": "https://localhost:8080/"
        },
        "id": "AtAjawG1FRXw",
        "outputId": "437ebf27-118c-476b-8c8e-37eeab12f669"
      },
      "outputs": [
        {
          "output_type": "stream",
          "name": "stdout",
          "text": [
            "Enter the date in MM DD YYYY format: 01 07 2024\n",
            "SUNDAY\n"
          ]
        }
      ],
      "source": [
        "import datetime\n",
        "\n",
        "input_date = input(\"Enter the date in MM DD YYYY format: \")\n",
        "month, day, year = map(int, input_date.split())\n",
        "\n",
        "if 2000 < year < 3000:\n",
        " x = datetime.datetime(year, month, day)\n",
        "\n",
        " day_name = x.strftime(\"%A\").upper()\n",
        " print(day_name)\n",
        "else:\n",
        " print(\"Year is not within the specified constraints.\")"
      ]
    },
    {
      "cell_type": "code",
      "source": [
        "from math import pow\n",
        "def compute_armstrong(x):\n",
        " n = len(str(x))\n",
        "\n",
        " armstrong_sum = sum(pow(int(i), n) for i in str(x))\n",
        " return armstrong_sum == x\n",
        "number = int(input(\"Enter a number: \"))\n",
        "if compute_armstrong(number):\n",
        " print(f\"{number} is an Armstrong number\")\n",
        "else:\n",
        " print(f\"{number} is not an Armstrong number\")"
      ],
      "metadata": {
        "colab": {
          "base_uri": "https://localhost:8080/"
        },
        "id": "HligX6lqFhmt",
        "outputId": "a87276d1-4322-451b-f42e-afc5b859fff1"
      },
      "execution_count": 4,
      "outputs": [
        {
          "output_type": "stream",
          "name": "stdout",
          "text": [
            "Enter a number: 121\n",
            "121 is not an Armstrong number\n"
          ]
        }
      ]
    },
    {
      "cell_type": "code",
      "source": [
        "import math\n",
        "def edistance(x, y):\n",
        " distance = math.sqrt((y[0] - x[0])**2 + (y[1] - x[1])**2)\n",
        " return distance\n",
        "\n",
        "X = (1, 3)\n",
        "Y = (2, 3)\n",
        "result = edistance(X, Y)\n",
        "print(\"Euclidean distance between X and Y:\", result)"
      ],
      "metadata": {
        "colab": {
          "base_uri": "https://localhost:8080/"
        },
        "id": "xKAHx8FaF6tL",
        "outputId": "cb1847c1-c69f-4e85-98d3-51a37059944b"
      },
      "execution_count": 6,
      "outputs": [
        {
          "output_type": "stream",
          "name": "stdout",
          "text": [
            "Euclidean distance between X and Y: 1.0\n"
          ]
        }
      ]
    },
    {
      "cell_type": "code",
      "source": [
        "def display():\n",
        "    print(\"Hello World\")\n",
        "def sum(a, b):\n",
        "    return a + b\n",
        "\n",
        "\n"
      ],
      "metadata": {
        "id": "HSLA9CGSF8fE"
      },
      "execution_count": 13,
      "outputs": []
    }
  ]
}