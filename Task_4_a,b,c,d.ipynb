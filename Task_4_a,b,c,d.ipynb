{
  "nbformat": 4,
  "nbformat_minor": 0,
  "metadata": {
    "colab": {
      "provenance": [],
      "authorship_tag": "ABX9TyMZb7yO6SD7vEB+iLV8XaMn",
      "include_colab_link": true
    },
    "kernelspec": {
      "name": "python3",
      "display_name": "Python 3"
    },
    "language_info": {
      "name": "python"
    }
  },
  "cells": [
    {
      "cell_type": "markdown",
      "metadata": {
        "id": "view-in-github",
        "colab_type": "text"
      },
      "source": [
        "<a href=\"https://colab.research.google.com/github/Likhitha-302006/Python-Tasks/blob/main/Task_4_a%2Cb%2Cc%2Cd.ipynb\" target=\"_parent\"><img src=\"https://colab.research.google.com/assets/colab-badge.svg\" alt=\"Open In Colab\"/></a>"
      ]
    },
    {
      "cell_type": "code",
      "execution_count": 1,
      "metadata": {
        "colab": {
          "base_uri": "https://localhost:8080/"
        },
        "id": "Ivi5pnrvG7Q4",
        "outputId": "d02d4734-38af-4db3-9801-f8518eb85182"
      },
      "outputs": [
        {
          "output_type": "stream",
          "name": "stdout",
          "text": [
            "[12]\n",
            "[12, 4]\n",
            "[12, 4, 2]\n",
            "[12, 4, 2, 4]\n",
            "[12, 2, 4]\n",
            "[12, 2, 4, 21]\n",
            "[2, 4, 12, 21]\n",
            "[2, 4, 12]\n",
            "[12, 4, 2]\n",
            "[0, 1, 2, 3, 4, 5, 6, 7, 8, 9]\n"
          ]
        }
      ],
      "source": [
        "sample=[]\n",
        "sample.insert(0,12)\n",
        "print(sample)\n",
        "sample.insert(1,4)\n",
        "print(sample)\n",
        "sample.insert(2,2)\n",
        "print(sample)\n",
        "sample.insert(3,4)\n",
        "print(sample)\n",
        "sample.remove(4)\n",
        "print(sample)\n",
        "sample.append(21)\n",
        "print(sample)\n",
        "sample.sort()\n",
        "print(sample)\n",
        "sample.pop()\n",
        "print(sample)\n",
        "sample.reverse()\n",
        "print(sample)\n",
        "a = list(range(10))\n",
        "print(a)"
      ]
    },
    {
      "cell_type": "code",
      "source": [
        "alist = []\n",
        "for i in range(int(input())):\n",
        " name = input()\n",
        " score = float(input())\n",
        " alist.append([name, score])\n",
        "second_highest = sorted(set([score for name, score in alist]))[1]\n",
        "\n",
        "print('\\n'.join(sorted([name for name, score in alist if score == second_highest])))\n"
      ],
      "metadata": {
        "colab": {
          "base_uri": "https://localhost:8080/"
        },
        "id": "jegboIjiHJVO",
        "outputId": "0b595401-29c9-4322-c968-c2106cf7640f"
      },
      "execution_count": 4,
      "outputs": [
        {
          "output_type": "stream",
          "name": "stdout",
          "text": [
            "4\n",
            "likki\n",
            "5\n",
            "mokshi\n",
            "24\n",
            "Gopi\n",
            "22\n",
            "lakshmi\n",
            "30\n",
            "Gopi\n"
          ]
        }
      ]
    },
    {
      "cell_type": "code",
      "source": [
        "n = int(input())\n",
        "a = map(int, input().split())\n",
        "t = tuple(a)\n",
        "print(hash(t));"
      ],
      "metadata": {
        "colab": {
          "base_uri": "https://localhost:8080/"
        },
        "id": "BH5rb0CRHo3b",
        "outputId": "5ef288e6-35ee-4b3e-f0c4-69e693040481"
      },
      "execution_count": 5,
      "outputs": [
        {
          "output_type": "stream",
          "name": "stdout",
          "text": [
            "3\n",
            "2 1 4\n",
            "7868426630899093470\n"
          ]
        }
      ]
    },
    {
      "cell_type": "code",
      "source": [
        "def min_paint_balloons(s):\n",
        "\n",
        " amber_count = s.count('a')\n",
        " brass_count = s.count('b')\n",
        "\n",
        " min_paint = min(amber_count, brass_count)\n",
        " return min_paint\n",
        "\n",
        "T = int(input(\"enter the total testcase\"))\n",
        "\n",
        "for i in range(T):\n",
        "\n",
        " s = input().strip()\n",
        "\n",
        " print(min_paint_balloons(s))"
      ],
      "metadata": {
        "colab": {
          "base_uri": "https://localhost:8080/"
        },
        "id": "RR94ikbMHtvH",
        "outputId": "ba103430-81cf-4a8d-8f9a-435aa5559782"
      },
      "execution_count": 7,
      "outputs": [
        {
          "output_type": "stream",
          "name": "stdout",
          "text": [
            "enter the total testcase3\n",
            "abbbba\n",
            "2\n",
            "a bbb aa\n",
            "3\n",
            "abbbbbbba\n",
            "2\n"
          ]
        }
      ]
    }
  ]
}