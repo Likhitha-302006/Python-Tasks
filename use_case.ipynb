{
  "nbformat": 4,
  "nbformat_minor": 0,
  "metadata": {
    "colab": {
      "provenance": [],
      "authorship_tag": "ABX9TyOKnfHnf6g+l1uiLaQMPM+9",
      "include_colab_link": true
    },
    "kernelspec": {
      "name": "python3",
      "display_name": "Python 3"
    },
    "language_info": {
      "name": "python"
    }
  },
  "cells": [
    {
      "cell_type": "markdown",
      "metadata": {
        "id": "view-in-github",
        "colab_type": "text"
      },
      "source": [
        "<a href=\"https://colab.research.google.com/github/Likhitha-302006/Python-Tasks/blob/main/use_case.ipynb\" target=\"_parent\"><img src=\"https://colab.research.google.com/assets/colab-badge.svg\" alt=\"Open In Colab\"/></a>"
      ]
    },
    {
      "cell_type": "code",
      "execution_count": 2,
      "metadata": {
        "colab": {
          "base_uri": "https://localhost:8080/"
        },
        "id": "PjhwZ5Ctn85F",
        "outputId": "e5cef376-d4bb-45ef-bda3-06d333b0ae33"
      },
      "outputs": [
        {
          "output_type": "stream",
          "name": "stdout",
          "text": [
            "Starting a card game with 100 rounds.\n",
            "\n",
            "--- Game Over ---\n",
            "Final Scores:\n",
            "User: 41\n",
            "Bot: 50\n",
            "\n",
            "Bot wins the game. \n"
          ]
        }
      ],
      "source": [
        "import random\n",
        "\n",
        "def play_card_game(rounds=100):\n",
        "    deck = list(range(1, 14))\n",
        "\n",
        "    user_score = 0\n",
        "    bot_score = 0\n",
        "\n",
        "    print(f\"Starting a card game with {rounds} rounds.\")\n",
        "\n",
        "    for round_num in range(1, rounds + 1):\n",
        "\n",
        "        user_card = random.choice(deck)\n",
        "        bot_card = random.choice(deck)\n",
        "\n",
        "        # Determine the winner of the round\n",
        "        if user_card > bot_card:\n",
        "            user_score += 1\n",
        "        elif bot_card > user_card:\n",
        "            bot_score += 1\n",
        "\n",
        "    print(\"\\n--- Game Over ---\")\n",
        "    print(f\"Final Scores:\")\n",
        "    print(f\"User: {user_score}\")\n",
        "    print(f\"Bot: {bot_score}\")\n",
        "    if user_score > bot_score:\n",
        "        print(\"\\nUser wins the game! \")\n",
        "    elif bot_score > user_score:\n",
        "        print(\"\\nBot wins the game. \")\n",
        "    else:\n",
        "        print(\"\\nThe game is a tie! \")\n",
        "\n",
        "if __name__ == \"__main__\":\n",
        "    play_card_game()"
      ]
    },
    {
      "cell_type": "code",
      "source": [],
      "metadata": {
        "id": "ZeigWmV1oVwQ"
      },
      "execution_count": null,
      "outputs": []
    }
  ]
}