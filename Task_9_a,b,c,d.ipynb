{
  "nbformat": 4,
  "nbformat_minor": 0,
  "metadata": {
    "colab": {
      "provenance": [],
      "authorship_tag": "ABX9TyNG9A8fQRIv5fOMdBPEuzJO",
      "include_colab_link": true
    },
    "kernelspec": {
      "name": "python3",
      "display_name": "Python 3"
    },
    "language_info": {
      "name": "python"
    }
  },
  "cells": [
    {
      "cell_type": "markdown",
      "metadata": {
        "id": "view-in-github",
        "colab_type": "text"
      },
      "source": [
        "<a href=\"https://colab.research.google.com/github/Likhitha-302006/Python-Tasks/blob/main/Task_9_a%2Cb%2Cc%2Cd.ipynb\" target=\"_parent\"><img src=\"https://colab.research.google.com/assets/colab-badge.svg\" alt=\"Open In Colab\"/></a>"
      ]
    },
    {
      "cell_type": "code",
      "execution_count": 2,
      "metadata": {
        "colab": {
          "base_uri": "https://localhost:8080/"
        },
        "id": "hXoYqKe7NPPk",
        "outputId": "c0ea8146-0069-4580-ad97-c412d118f6cc"
      },
      "outputs": [
        {
          "output_type": "stream",
          "name": "stdout",
          "text": [
            "Please enter your age: 19\n",
            "Your age is: 19\n"
          ]
        }
      ],
      "source": [
        "def get_age():\n",
        "    while True:\n",
        "        try:\n",
        "            age = int(input(\"Please enter your age: \"))\n",
        "            if age < 0:\n",
        "                raise ValueError(\"Age cannot be negative.\")\n",
        "            return age\n",
        "        except ValueError as ve:\n",
        "            print(\"Invalid input:\", ve)\n",
        "try:\n",
        "    age = get_age()\n",
        "    print(\"Your age is:\", age)\n",
        "except ValueError as ve:\n",
        "    print(\"An error occurred:\", ve)"
      ]
    },
    {
      "cell_type": "code",
      "source": [
        "def view_seat_details(seat_list, index):\n",
        "    try:\n",
        "        seat = seat_list[index]\n",
        "        print(\"Seat Details:\")\n",
        "        print(\"Seat Number:\", seat.get(\"number\"))\n",
        "        print(\"Section:\", seat.get(\"section\"))\n",
        "        print(\"Availability:\", \"Booked\" if seat.get(\"is_booked\") else \"Available\")\n",
        "    except IndexError:\n",
        "        print(\"Invalid seat index. Please select a valid seat.\")\n",
        "\n",
        "seats = [\n",
        "    {\"number\": \"A1\", \"section\": \"VIP\", \"is_booked\": False},\n",
        "    {\"number\": \"A2\", \"section\": \"VIP\", \"is_booked\": True},\n",
        "    {\"number\": \"B1\", \"section\": \"General\", \"is_booked\": False},\n",
        "    {\"number\": \"B2\", \"section\": \"General\", \"is_booked\": False}\n",
        "]\n",
        "\n",
        "try:\n",
        "    seat_index = int(input(\"Enter the index of the seat you want to view: \"))\n",
        "    view_seat_details(seats, seat_index)\n",
        "except ValueError:\n",
        "    print(\"Invalid input. Please enter a valid seat index (integer).\")"
      ],
      "metadata": {
        "colab": {
          "base_uri": "https://localhost:8080/"
        },
        "id": "_-ZEZNqxNS7Y",
        "outputId": "ad098a12-5071-42c5-952e-7a05ac19a217"
      },
      "execution_count": 4,
      "outputs": [
        {
          "output_type": "stream",
          "name": "stdout",
          "text": [
            "Enter the index of the seat you want to view: 1\n",
            "Seat Details:\n",
            "Seat Number: A2\n",
            "Section: VIP\n",
            "Availability: Booked\n"
          ]
        }
      ]
    },
    {
      "cell_type": "code",
      "source": [
        "def open_file(filename):\n",
        "    try:\n",
        "        file = open(filename, 'r')\n",
        "        contents = file.read()\n",
        "        print(\"File contents:\")\n",
        "        print(contents)\n",
        "        file.close()\n",
        "    except FileNotFoundError:\n",
        "        print(\"Error: File not found.\")\n",
        "\n",
        "file_name = input(\"Input a file name: \")\n",
        "open_file(file_name)"
      ],
      "metadata": {
        "colab": {
          "base_uri": "https://localhost:8080/"
        },
        "id": "ewGpYQIxNZVq",
        "outputId": "fa31e2d3-0f5e-4aba-a85a-0443777afc4b"
      },
      "execution_count": 6,
      "outputs": [
        {
          "output_type": "stream",
          "name": "stdout",
          "text": [
            "Input a file name: test\n",
            "Error: File not found.\n"
          ]
        }
      ]
    },
    {
      "cell_type": "code",
      "source": [
        "try:\n",
        "\n",
        " initial_investment = float(input(\"Enter the initial investment amount: \"))\n",
        "\n",
        " final_investment = float(input(\"Enter the final investment amount: \"))\n",
        "\n",
        " roi = (final_investment - initial_investment) / initial_investment * 100\n",
        " print(\"Return on Investment (ROI): {:.2f}\".format(roi))\n",
        "except ValueError:\n",
        "\n",
        " print(\"Error: Please enter a valid numeric value for the investment amount.\")\n",
        "except ZeroDivisionError:\n",
        "\n",
        " print(\"Error: Initial investment amount cannot be zero.\")\n"
      ],
      "metadata": {
        "colab": {
          "base_uri": "https://localhost:8080/"
        },
        "id": "mhyEQx3BNdAy",
        "outputId": "645a7fd1-8987-46f3-e0e8-f8a950eac070"
      },
      "execution_count": 7,
      "outputs": [
        {
          "output_type": "stream",
          "name": "stdout",
          "text": [
            "Enter the initial investment amount: 5000\n",
            "Enter the final investment amount: 10000\n",
            "Return on Investment (ROI): 100.00\n"
          ]
        }
      ]
    }
  ]
}