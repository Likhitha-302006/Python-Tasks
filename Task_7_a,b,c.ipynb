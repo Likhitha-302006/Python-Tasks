{
  "nbformat": 4,
  "nbformat_minor": 0,
  "metadata": {
    "colab": {
      "provenance": [],
      "authorship_tag": "ABX9TyOAqZCEhfcoWcJVxvkXukhP",
      "include_colab_link": true
    },
    "kernelspec": {
      "name": "python3",
      "display_name": "Python 3"
    },
    "language_info": {
      "name": "python"
    }
  },
  "cells": [
    {
      "cell_type": "markdown",
      "metadata": {
        "id": "view-in-github",
        "colab_type": "text"
      },
      "source": [
        "<a href=\"https://colab.research.google.com/github/Likhitha-302006/Python-Tasks/blob/main/Task_7_a%2Cb%2Cc.ipynb\" target=\"_parent\"><img src=\"https://colab.research.google.com/assets/colab-badge.svg\" alt=\"Open In Colab\"/></a>"
      ]
    },
    {
      "cell_type": "code",
      "execution_count": 1,
      "metadata": {
        "colab": {
          "base_uri": "https://localhost:8080/"
        },
        "id": "UaR1NaJyS51h",
        "outputId": "2a4b5782-c26d-481e-f51f-9311df59da00"
      },
      "outputs": [
        {
          "output_type": "stream",
          "name": "stdout",
          "text": [
            "Enter the quantity: 69\n",
            "You get a 20.0% discount.\n"
          ]
        }
      ],
      "source": [
        "\n",
        "\n",
        "def find_disc(qty):\n",
        "    \"\"\"\n",
        "    Calculates a discount based on the quantity of an item.\n",
        "    - No discount for quantity between 1 and 20.\n",
        "    - 15% discount for quantity between 21 and 40.\n",
        "    - 20% discount for quantity 41 or more.\n",
        "    \"\"\"\n",
        "    if 1 <= qty <= 20:\n",
        "        return 0  # No discount\n",
        "    elif 21 <= qty <= 40:\n",
        "        return 0.15  # 15% discount\n",
        "    else:  # qty >= 41\n",
        "        return 0.20  # 20% discount\n",
        "\n",
        "\n",
        "quantity = int(input(\"Enter the quantity: \"))\n",
        "discount = find_disc(quantity)\n",
        "\n",
        "if discount > 0:\n",
        "    print(f\"You get a {discount*100}% discount.\")\n",
        "else:\n",
        "    print(\"No discount is applicable.\")"
      ]
    },
    {
      "cell_type": "code",
      "source": [
        "\n",
        "\n",
        "def product_of_cubes(n):\n",
        "    \"\"\"\n",
        "    Calculates the product of the cubes of the first n natural numbers.\n",
        "    \"\"\"\n",
        "    product = 1\n",
        "    for i in range(1, n + 1):\n",
        "        product *= i**3\n",
        "    return product\n",
        "\n",
        "\n",
        "num = int(input(\"Enter a number (N): \"))\n",
        "\n",
        "result = product_of_cubes(num)\n",
        "print(f\"The product of the cubes of the first {num} natural numbers is: {result}\")"
      ],
      "metadata": {
        "colab": {
          "base_uri": "https://localhost:8080/"
        },
        "id": "vg-FiTTmS-QW",
        "outputId": "105252aa-a5b2-49d6-8367-b3fdd2a7ea98"
      },
      "execution_count": 2,
      "outputs": [
        {
          "output_type": "stream",
          "name": "stdout",
          "text": [
            "Enter a number (N): 4\n",
            "The product of the cubes of the first 4 natural numbers is: 13824\n"
          ]
        }
      ]
    },
    {
      "cell_type": "code",
      "source": [
        "\n",
        "fixed_number = 15\n",
        "\n",
        "multiplier = lambda x: x * fixed_number\n",
        "\n",
        "double_output = multiplier(2)\n",
        "triple_output = multiplier(3)\n",
        "quadruple_output = multiplier(4)\n",
        "quintuple_output = multiplier(5)\n",
        "\n",
        "print(f\"Double the number of {fixed_number} is: {double_output}\")\n",
        "print(f\"Triple the number of {fixed_number} is: {triple_output}\")\n",
        "print(f\"Quadruple the number of {fixed_number} is: {quadruple_output}\")\n",
        "print(f\"Quintuple of number {fixed_number} is: {quintuple_output}\")"
      ],
      "metadata": {
        "colab": {
          "base_uri": "https://localhost:8080/"
        },
        "id": "a9BVr4SqTBKh",
        "outputId": "88ec1fb2-e61c-4883-c030-9964b11b60f8"
      },
      "execution_count": 3,
      "outputs": [
        {
          "output_type": "stream",
          "name": "stdout",
          "text": [
            "Double the number of 15 is: 30\n",
            "Triple the number of 15 is: 45\n",
            "Quadruple the number of 15 is: 60\n",
            "Quintuple of number 15 is: 75\n"
          ]
        }
      ]
    },
    {
      "cell_type": "code",
      "source": [],
      "metadata": {
        "id": "EtGcb7IdTQ2s"
      },
      "execution_count": null,
      "outputs": []
    }
  ]
}