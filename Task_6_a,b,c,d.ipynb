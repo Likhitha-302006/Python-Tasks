{
  "nbformat": 4,
  "nbformat_minor": 0,
  "metadata": {
    "colab": {
      "provenance": [],
      "authorship_tag": "ABX9TyNH4cXl83LeRxs2bKcuioJ9",
      "include_colab_link": true
    },
    "kernelspec": {
      "name": "python3",
      "display_name": "Python 3"
    },
    "language_info": {
      "name": "python"
    }
  },
  "cells": [
    {
      "cell_type": "markdown",
      "metadata": {
        "id": "view-in-github",
        "colab_type": "text"
      },
      "source": [
        "<a href=\"https://colab.research.google.com/github/Likhitha-302006/Python-Tasks/blob/main/Task_6_a%2Cb%2Cc%2Cd.ipynb\" target=\"_parent\"><img src=\"https://colab.research.google.com/assets/colab-badge.svg\" alt=\"Open In Colab\"/></a>"
      ]
    },
    {
      "cell_type": "code",
      "execution_count": 2,
      "metadata": {
        "colab": {
          "base_uri": "https://localhost:8080/"
        },
        "id": "xKbuzeKGJTPD",
        "outputId": "190a802c-3720-46f9-e98f-8936b4fd8da5"
      },
      "outputs": [
        {
          "output_type": "stream",
          "name": "stdout",
          "text": [
            "Error: File 'file1.txt' not found.\n",
            "Error: File 'file2.txt' not found.\n",
            "Error: File 'file3.txt' not found.\n"
          ]
        }
      ],
      "source": [
        "def copy_files(file_paths):\n",
        "    for file_path in file_paths:\n",
        "        if os.path.exists(file_path):\n",
        "            with open(file_path, 'rb') as original_file:  # use 'rb' to handle binary files like PDFs\n",
        "                original_content = original_file.read()\n",
        "            copy_file_path = file_path.split('.')[0] + '_copy.' + file_path.split('.')[1]\n",
        "            with open(copy_file_path, 'wb') as copy_file:  # use 'wb' for binary files\n",
        "                copy_file.write(original_content)\n",
        "            print(f\"Contents copied from {file_path} to {copy_file_path} successfully.\")\n",
        "        else:\n",
        "            print(f\"Error: File '{file_path}' not found.\")\n",
        "\n",
        "# Example usage:\n",
        "file_list = ['file1.txt', 'file2.txt', 'file3.txt', '/content/Python.pdf']  # Added PDF file path\n",
        "copy_files(file_list)\n",
        "found.\")\n",
        "# Example usage:\n",
        "import os\n",
        "file_list = ['file1.txt', 'file2.txt', 'file3.txt'] # List of file paths\n",
        "copy_files(file_list)"
      ]
    },
    {
      "cell_type": "code",
      "source": [
        "def create_file_and_count_occurrences():\n",
        "    try:\n",
        "        # Creating a file\n",
        "        file_name = input(\"Enter the file name to create (with extension): \")\n",
        "        with open(file_name, 'w') as file:\n",
        "            print(\"Enter the contents of the file (press Enter on an empty line to finish):\")\n",
        "            while True:\n",
        "                line = input()\n",
        "                if not line:\n",
        "                    break\n",
        "                file.write(line + '\\n')\n",
        "\n",
        "        # Displaying contents of the file\n",
        "        print(\"\\nContents of the file:\")\n",
        "        with open(file_name, 'r') as file:\n",
        "            print(file.read())\n",
        "\n",
        "        # Counting occurrences of a letter\n",
        "        letter = input(\"\\nEnter the letter to count occurrences: \")\n",
        "        if len(letter) != 1:\n",
        "            print(\"Please enter only a single letter.\")\n",
        "            return\n",
        "\n",
        "        with open(file_name, 'r') as file:\n",
        "            content = file.read()\n",
        "            count = content.count(letter)\n",
        "            print(f\"\\nThe letter '{letter}' occurs {count} times in the file.\")\n",
        "\n",
        "    except Exception as e:\n",
        "        print(f\"An error occurred: {e}\")\n",
        "\n",
        "# Calling the function\n",
        "create_file_and_count_occurrences()\n",
        "a"
      ],
      "metadata": {
        "colab": {
          "base_uri": "https://localhost:8080/"
        },
        "id": "gNw1Y-cXJe4A",
        "outputId": "e177605f-e788-499c-895d-03c4049f9f68"
      },
      "execution_count": null,
      "outputs": [
        {
          "name": "stdout",
          "output_type": "stream",
          "text": [
            "Enter the file name to create (with extension): Python.pdf\n",
            "Enter the contents of the file (press Enter on an empty line to finish):\n",
            "hi\n",
            "what\n",
            "are\n",
            "you\n",
            "doing\n",
            "Keep\n",
            "Smiling\n"
          ]
        }
      ]
    },
    {
      "cell_type": "code",
      "source": [
        "import csv\n",
        "with open('apple_quality.csv','r') as file:\n",
        " data=csv.reader(file)\n",
        " for row in data:\n",
        " print(row)"
      ],
      "metadata": {
        "id": "-RHWjRX8KejT"
      },
      "execution_count": null,
      "outputs": []
    }
  ]
}