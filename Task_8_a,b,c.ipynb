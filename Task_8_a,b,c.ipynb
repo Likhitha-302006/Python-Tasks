{
  "nbformat": 4,
  "nbformat_minor": 0,
  "metadata": {
    "colab": {
      "provenance": [],
      "authorship_tag": "ABX9TyNSey/u7GjACSR9KUiJXPqn",
      "include_colab_link": true
    },
    "kernelspec": {
      "name": "python3",
      "display_name": "Python 3"
    },
    "language_info": {
      "name": "python"
    }
  },
  "cells": [
    {
      "cell_type": "markdown",
      "metadata": {
        "id": "view-in-github",
        "colab_type": "text"
      },
      "source": [
        "<a href=\"https://colab.research.google.com/github/Likhitha-302006/Python-Tasks/blob/main/Task_8_a%2Cb%2Cc.ipynb\" target=\"_parent\"><img src=\"https://colab.research.google.com/assets/colab-badge.svg\" alt=\"Open In Colab\"/></a>"
      ]
    },
    {
      "cell_type": "code",
      "execution_count": 2,
      "metadata": {
        "colab": {
          "base_uri": "https://localhost:8080/"
        },
        "id": "JrqYpQKbMS7J",
        "outputId": "1d2054ee-2ae6-4062-8bbd-958dc592f760"
      },
      "outputs": [
        {
          "output_type": "stream",
          "name": "stdout",
          "text": [
            "0 1 1 2 3 5 8 13 21 34 "
          ]
        }
      ],
      "source": [
        "def fibonacci():\n",
        " a, b = 0, 1\n",
        " for _ in range(10):\n",
        "  yield a\n",
        "  a, b = b, a + b\n",
        "fibonacci_series = fibonacci()\n",
        "for number in fibonacci_series:\n",
        " print(number, end=\" \")"
      ]
    },
    {
      "cell_type": "code",
      "source": [
        "def squares():\n",
        " for i in range(5):\n",
        "  yield i ** 2\n",
        "\n",
        "squares_generator = squares()\n",
        "\n",
        "for square in squares_generator:\n",
        "  print(square)\n"
      ],
      "metadata": {
        "colab": {
          "base_uri": "https://localhost:8080/"
        },
        "id": "DhVBEvkdMaCu",
        "outputId": "70ee7fc4-6c26-432e-9e1c-3fd458050ccf"
      },
      "execution_count": 8,
      "outputs": [
        {
          "output_type": "stream",
          "name": "stdout",
          "text": [
            "0\n",
            "1\n",
            "4\n",
            "9\n",
            "16\n"
          ]
        }
      ]
    },
    {
      "cell_type": "code",
      "source": [
        "def operation_decorator(func):\n",
        " def wrapper(x, y):\n",
        "  print(\"Performing arithmetic operation...\")\n",
        "  result = func(x, y)\n",
        "  print(\"Operation completed.\")\n",
        "  return result\n",
        " return wrapper\n",
        "@operation_decorator\n",
        "def add(x, y):\n",
        " return x + y\n",
        "@operation_decorator\n",
        "def divide(x, y):\n",
        " if y == 0:\n",
        "  return \"Cannot divide by zero!\"\n",
        " else:\n",
        "  return x / y\n",
        "result_add = add(5, 3)\n",
        "print(\"Result of addition:\", result_add)\n",
        "result_divide = divide(15, 0)\n",
        "print(\"Result of division:\", result_divide)"
      ],
      "metadata": {
        "colab": {
          "base_uri": "https://localhost:8080/"
        },
        "id": "GNTTl6YJMnIA",
        "outputId": "f3fe8ba3-d036-4a51-a507-cd5e64885949"
      },
      "execution_count": 4,
      "outputs": [
        {
          "output_type": "stream",
          "name": "stdout",
          "text": [
            "Performing arithmetic operation...\n",
            "Operation completed.\n",
            "Result of addition: 8\n",
            "Performing arithmetic operation...\n",
            "Operation completed.\n",
            "Result of division: Cannot divide by zero!\n"
          ]
        }
      ]
    },
    {
      "cell_type": "code",
      "source": [],
      "metadata": {
        "id": "Aglb--3zMnmP"
      },
      "execution_count": null,
      "outputs": []
    }
  ]
}