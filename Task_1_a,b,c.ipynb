{
  "nbformat": 4,
  "nbformat_minor": 0,
  "metadata": {
    "colab": {
      "provenance": [],
      "authorship_tag": "ABX9TyPVmkLhXNsvGOMqsPltvHJN",
      "include_colab_link": true
    },
    "kernelspec": {
      "name": "python3",
      "display_name": "Python 3"
    },
    "language_info": {
      "name": "python"
    }
  },
  "cells": [
    {
      "cell_type": "markdown",
      "metadata": {
        "id": "view-in-github",
        "colab_type": "text"
      },
      "source": [
        "<a href=\"https://colab.research.google.com/github/Likhitha-302006/Python-Tasks/blob/main/Task_1_a%2Cb%2Cc.ipynb\" target=\"_parent\"><img src=\"https://colab.research.google.com/assets/colab-badge.svg\" alt=\"Open In Colab\"/></a>"
      ]
    },
    {
      "cell_type": "code",
      "execution_count": 1,
      "metadata": {
        "colab": {
          "base_uri": "https://localhost:8080/"
        },
        "id": "UBfqBHlWR9m4",
        "outputId": "3a5b99ab-7283-4bff-af23-4a65e25c674f"
      },
      "outputs": [
        {
          "output_type": "stream",
          "name": "stdout",
          "text": [
            "Enter the principal amount: 1000\n",
            "Enter the annual interest rate: 5\n",
            "Enter the time in years: 2\n",
            "The Compound Interest is: 102.50\n"
          ]
        }
      ],
      "source": [
        "\n",
        "P = float(input(\"Enter the principal amount: \"))\n",
        "R = float(input(\"Enter the annual interest rate: \"))\n",
        "T = float(input(\"Enter the time in years: \"))\n",
        "\n",
        "\n",
        "Amount = P * (1 + R / 100)**T\n",
        "\n",
        "\n",
        "CI = Amount - P\n",
        "\n",
        "\n",
        "print(f\"The Compound Interest is: {CI:.2f}\")"
      ]
    },
    {
      "cell_type": "code",
      "source": [
        "\n",
        "weeks = int(input(\"Enter the number of weeks for the classes: \"))\n",
        "cost_per_class = float(input(\"Enter the cost per class per week: \"))\n",
        "\n",
        "\n",
        "total_cost = weeks * cost_per_class\n",
        "\n",
        "print(f\"The total amount for the classes is: {total_cost:.2f}\")"
      ],
      "metadata": {
        "colab": {
          "base_uri": "https://localhost:8080/"
        },
        "id": "mKVLE2U0SG09",
        "outputId": "b9365dc9-f414-4031-8a05-6450327f389e"
      },
      "execution_count": 2,
      "outputs": [
        {
          "output_type": "stream",
          "name": "stdout",
          "text": [
            "Enter the number of weeks for the classes: 5\n",
            "Enter the cost per class per week: 120\n",
            "The total amount for the classes is: 600.00\n"
          ]
        }
      ]
    },
    {
      "cell_type": "code",
      "source": [
        "\n",
        "\n",
        "import math\n",
        "\n",
        "\n",
        "SQ_FT_TO_ACRES = 43560\n",
        "\n",
        "print(\"Choose the shape of the field:\")\n",
        "print(\"1. Rectangle or Square\")\n",
        "print(\"2. Circle\")\n",
        "shape_choice = input(\"Enter your choice (1 or 2): \")\n",
        "\n",
        "if shape_choice == '1':\n",
        "\n",
        "    length = float(input(\"Enter the length of the field in feet: \"))\n",
        "    width = float(input(\"Enter the width of the field in feet: \"))\n",
        "    area_sq_ft = length * width\n",
        "    area_acres = area_sq_ft / SQ_FT_TO_ACRES\n",
        "    print(f\"The area of the field is {area_sq_ft:.2f} square feet.\")\n",
        "    print(f\"The area of the field is {area_acres:.4f} acres.\")\n",
        "elif shape_choice == '2':\n",
        "    # Circle\n",
        "    radius = float(input(\"Enter the radius of the circular field in feet: \"))\n",
        "    area_sq_ft = math.pi * radius**2\n",
        "    area_acres = area_sq_ft / SQ_FT_TO_ACRES\n",
        "    print(f\"The area of the field is {area_sq_ft:.2f} square feet.\")\n",
        "    print(f\"The area of the field is {area_acres:.4f} acres.\")\n",
        "else:\n",
        "    print(\"Invalid choice. Please enter 1 or 2.\")"
      ],
      "metadata": {
        "colab": {
          "base_uri": "https://localhost:8080/"
        },
        "id": "C03bb2MeSO3S",
        "outputId": "bc38d193-6a78-48bf-ee1d-073eeb25db66"
      },
      "execution_count": 3,
      "outputs": [
        {
          "output_type": "stream",
          "name": "stdout",
          "text": [
            "Choose the shape of the field:\n",
            "1. Rectangle or Square\n",
            "2. Circle\n",
            "Enter your choice (1 or 2): 2\n",
            "Enter the radius of the circular field in feet: 45\n",
            "The area of the field is 6361.73 square feet.\n",
            "The area of the field is 0.1460 acres.\n"
          ]
        }
      ]
    }
  ]
}